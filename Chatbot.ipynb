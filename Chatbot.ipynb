{
  "nbformat": 4,
  "nbformat_minor": 0,
  "metadata": {
    "colab": {
      "provenance": [],
      "authorship_tag": "ABX9TyN3ebUsJnouvDgO87//Vi/U",
      "include_colab_link": true
    },
    "kernelspec": {
      "name": "python3",
      "display_name": "Python 3"
    },
    "language_info": {
      "name": "python"
    }
  },
  "cells": [
    {
      "cell_type": "markdown",
      "metadata": {
        "id": "view-in-github",
        "colab_type": "text"
      },
      "source": [
        "<a href=\"https://colab.research.google.com/github/abubakarzohaib141/LangGraph/blob/main/Chatbot.ipynb\" target=\"_parent\"><img src=\"https://colab.research.google.com/assets/colab-badge.svg\" alt=\"Open In Colab\"/></a>"
      ]
    },
    {
      "cell_type": "code",
      "execution_count": 1,
      "metadata": {
        "colab": {
          "base_uri": "https://localhost:8080/"
        },
        "id": "2tw3maQMRZYM",
        "outputId": "ecead35c-af65-4e00-c6ed-79754ebfc324"
      },
      "outputs": [
        {
          "output_type": "stream",
          "name": "stdout",
          "text": [
            "\u001b[?25l   \u001b[90m━━━━━━━━━━━━━━━━━━━━━━━━━━━━━━━━━━━━━━━━\u001b[0m \u001b[32m0.0/41.3 kB\u001b[0m \u001b[31m?\u001b[0m eta \u001b[36m-:--:--\u001b[0m\r\u001b[2K   \u001b[90m━━━━━━━━━━━━━━━━━━━━━━━━━━━━━━━━━━━━━━━━\u001b[0m \u001b[32m41.3/41.3 kB\u001b[0m \u001b[31m1.8 MB/s\u001b[0m eta \u001b[36m0:00:00\u001b[0m\n",
            "\u001b[?25h\u001b[?25l   \u001b[90m━━━━━━━━━━━━━━━━━━━━━━━━━━━━━━━━━━━━━━━━\u001b[0m \u001b[32m0.0/135.7 kB\u001b[0m \u001b[31m?\u001b[0m eta \u001b[36m-:--:--\u001b[0m\r\u001b[2K   \u001b[90m━━━━━━━━━━━━━━━━━━━━━━━━━━━━━━━━━━━━━━━━\u001b[0m \u001b[32m135.7/135.7 kB\u001b[0m \u001b[31m5.6 MB/s\u001b[0m eta \u001b[36m0:00:00\u001b[0m\n",
            "\u001b[?25h\u001b[?25l   \u001b[90m━━━━━━━━━━━━━━━━━━━━━━━━━━━━━━━━━━━━━━━━\u001b[0m \u001b[32m0.0/43.7 kB\u001b[0m \u001b[31m?\u001b[0m eta \u001b[36m-:--:--\u001b[0m\r\u001b[2K   \u001b[90m━━━━━━━━━━━━━━━━━━━━━━━━━━━━━━━━━━━━━━━━\u001b[0m \u001b[32m43.7/43.7 kB\u001b[0m \u001b[31m2.7 MB/s\u001b[0m eta \u001b[36m0:00:00\u001b[0m\n",
            "\u001b[?25h"
          ]
        }
      ],
      "source": [
        "!pip install -q langchain_google_genai langgraph langchain"
      ]
    },
    {
      "cell_type": "code",
      "source": [
        "from langchain_google_genai import ChatGoogleGenerativeAI\n",
        "from langgraph.graph import StateGraph , START , END\n",
        "from langgraph.graph.state import CompiledStateGraph\n",
        "from langchain_core.messages.ai import AIMessage\n",
        "from typing_extensions import TypedDict\n",
        "from google.colab import userdata\n",
        "from IPython.display import Image , display"
      ],
      "metadata": {
        "id": "OJqQ7RbURvEe"
      },
      "execution_count": 3,
      "outputs": []
    },
    {
      "cell_type": "code",
      "source": [
        "llm = ChatGoogleGenerativeAI(\n",
        "    model = \"gemini-1.5-flash\",\n",
        "    api_key = userdata.get(\"GEMINI_API_KEY\")\n",
        ")"
      ],
      "metadata": {
        "id": "ZJ4Q_S5USxtJ"
      },
      "execution_count": 8,
      "outputs": []
    },
    {
      "cell_type": "code",
      "source": [
        "ai_msg : AIMessage = llm.invoke(\"Hi I am Abu Bakar\")\n",
        "print(ai_msg.content)"
      ],
      "metadata": {
        "colab": {
          "base_uri": "https://localhost:8080/"
        },
        "id": "3wdQe_eKTGPq",
        "outputId": "915118a8-f58a-43af-c502-eeb857a2439c"
      },
      "execution_count": 12,
      "outputs": [
        {
          "output_type": "stream",
          "name": "stdout",
          "text": [
            "Hello Abu Bakar, it's nice to meet you!  How can I help you today?\n",
            "\n"
          ]
        }
      ]
    },
    {
      "cell_type": "code",
      "source": [
        "class MessageState(TypedDict) :\n",
        "  prompt : str\n",
        "  output : str"
      ],
      "metadata": {
        "id": "ka4vU1dkTeWN"
      },
      "execution_count": 10,
      "outputs": []
    },
    {
      "cell_type": "code",
      "source": [
        "def Assistant(state : MessageState) :\n",
        "  print(\"--- 🤖 Assistant ---\", state)\n",
        "  prompt = state['prompt']\n",
        "  ai_msg : AIMessage = llm.invoke(prompt)\n",
        "  return {\"output\" : ai_msg.content}"
      ],
      "metadata": {
        "id": "NwhvDIfLTo91"
      },
      "execution_count": 16,
      "outputs": []
    },
    {
      "cell_type": "code",
      "source": [
        "greet_message = Assistant(MessageState(prompt=\"Hi I am Abu Bakar\"))\n",
        "print(greet_message)"
      ],
      "metadata": {
        "colab": {
          "base_uri": "https://localhost:8080/"
        },
        "id": "eqcuZxsaVIAr",
        "outputId": "cfdab9dd-ea29-4c93-a22e-2dde00d199af"
      },
      "execution_count": 18,
      "outputs": [
        {
          "output_type": "stream",
          "name": "stdout",
          "text": [
            "--- 🤖 Assistant --- {'prompt': 'Hi I am Abu Bakar'}\n",
            "{'output': \"Hello Abu Bakar, it's nice to meet you. How can I help you today?\\n\"}\n"
          ]
        }
      ]
    },
    {
      "cell_type": "code",
      "source": [
        "builder : StateGraph = StateGraph(state_schema=MessageState)"
      ],
      "metadata": {
        "id": "QRG1AXgMVU61"
      },
      "execution_count": 19,
      "outputs": []
    },
    {
      "cell_type": "code",
      "source": [
        "builder.add_node(\"Assistant\", Assistant)"
      ],
      "metadata": {
        "colab": {
          "base_uri": "https://localhost:8080/"
        },
        "id": "mSbJJU3bVbut",
        "outputId": "e0f01b6d-7233-4840-c20c-91ce2c3a8c07"
      },
      "execution_count": 20,
      "outputs": [
        {
          "output_type": "execute_result",
          "data": {
            "text/plain": [
              "<langgraph.graph.state.StateGraph at 0x7d8c670ac730>"
            ]
          },
          "metadata": {},
          "execution_count": 20
        }
      ]
    },
    {
      "cell_type": "code",
      "source": [
        "builder.add_edge(START , \"Assistant\")\n",
        "builder.add_edge(\"Assistant\", END)"
      ],
      "metadata": {
        "colab": {
          "base_uri": "https://localhost:8080/"
        },
        "id": "lhrjZhNCVhBK",
        "outputId": "e458bf53-1f49-4d94-c2d4-0a435079f4cc"
      },
      "execution_count": 21,
      "outputs": [
        {
          "output_type": "execute_result",
          "data": {
            "text/plain": [
              "<langgraph.graph.state.StateGraph at 0x7d8c670ac730>"
            ]
          },
          "metadata": {},
          "execution_count": 21
        }
      ]
    },
    {
      "cell_type": "code",
      "source": [
        "graph : CompiledStateGraph = builder.compile()"
      ],
      "metadata": {
        "id": "4lgDyAJ1VsL2"
      },
      "execution_count": 22,
      "outputs": []
    },
    {
      "cell_type": "code",
      "source": [
        "display(Image(graph.get_graph().draw_mermaid_png()))"
      ],
      "metadata": {
        "colab": {
          "base_uri": "https://localhost:8080/",
          "height": 251
        },
        "id": "X8InIvNkVyZ4",
        "outputId": "96041b6b-4eb7-41f0-c861-34ad8c4351b1"
      },
      "execution_count": 23,
      "outputs": [
        {
          "output_type": "display_data",
          "data": {
            "image/png": "[encoded data removed]",
            "text/plain": [
              "<IPython.core.display.Image object>"
            ]
          },
          "metadata": {}
        }
      ]
    },
    {
      "cell_type": "code",
      "source": [
        "welcome = \"Welcome To Your Assistant type 'exit' to exit the chat\"\n",
        "print(welcome)\n",
        "while True :\n",
        " user_input = input(\"Human : \")\n",
        " result = graph.invoke({\"prompt\" : user_input})\n",
        " print(result)\n",
        "\n",
        " if user_input == \"exit\" :\n",
        "  print(\"Thank You For Comming!\")\n",
        "  break\n"
      ],
      "metadata": {
        "colab": {
          "base_uri": "https://localhost:8080/"
        },
        "id": "lISbovDNWJF9",
        "outputId": "61d97c1f-a943-4d35-ce31-4ff9c4b90899"
      },
      "execution_count": 27,
      "outputs": [
        {
          "output_type": "stream",
          "name": "stdout",
          "text": [
            "Welcome To Your Assistant type 'exit' to exit the chat\n",
            "Human : Hello\n",
            "--- 🤖 Assistant --- {'prompt': 'Hello'}\n",
            "{'prompt': 'Hello', 'output': 'Hello there! How can I help you today?\\n'}\n",
            "Human : what is ai\n",
            "--- 🤖 Assistant --- {'prompt': 'what is ai'}\n",
            "{'prompt': 'what is ai', 'output': 'AI, or Artificial Intelligence, is a broad field of computer science dedicated to creating systems capable of performing tasks that typically require human intelligence.  These tasks include things like:\\n\\n* **Learning:** Acquiring information and rules for using the information.\\n* **Reasoning:** Using rules to reach approximate or definite conclusions.\\n* **Problem-solving:** Finding solutions to complex situations.\\n* **Perception:** Interpreting sensory information like images, sound, and text.\\n* **Language understanding:** Processing and understanding human language.\\n\\nThere are different approaches to AI, including:\\n\\n* **Narrow or Weak AI:** This is AI designed for a specific task, like playing chess or recommending products.  Most AI systems today fall into this category.  They are very good at their specific task but lack general intelligence.\\n\\n* **General or Strong AI:** This is a hypothetical AI with human-level intelligence and the ability to perform any intellectual task that a human being can.  This type of AI does not currently exist.\\n\\n* **Super AI:** This is a hypothetical AI that surpasses human intelligence in all aspects.  This is also purely hypothetical.\\n\\nAI systems achieve their capabilities through various techniques, including:\\n\\n* **Machine learning (ML):** Algorithms that allow computers to learn from data without explicit programming.\\n* **Deep learning (DL):** A subset of ML using artificial neural networks with multiple layers to analyze data.\\n* **Natural language processing (NLP):** Enabling computers to understand, interpret, and generate human language.\\n* **Computer vision:** Enabling computers to \"see\" and interpret images and videos.\\n\\n\\nIn short, AI is about building machines that can think and act intelligently, although the definition of \"intelligence\" is still debated and the capabilities of current AI are still far from human-level general intelligence.\\n'}\n",
            "Human : thank you exit\n",
            "--- 🤖 Assistant --- {'prompt': 'thank you exit'}\n",
            "{'prompt': 'thank you exit', 'output': \"You're welcome! Goodbye.\\n\"}\n",
            "Human : exit\n",
            "--- 🤖 Assistant --- {'prompt': 'exit'}\n",
            "{'prompt': 'exit', 'output': 'Okay, goodbye!\\n'}\n",
            "Thank You For Comming!\n"
          ]
        }
      ]
    }
  ]
}