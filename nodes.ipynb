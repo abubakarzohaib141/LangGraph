{
  "nbformat": 4,
  "nbformat_minor": 0,
  "metadata": {
    "colab": {
      "provenance": [],
      "authorship_tag": "ABX9TyOIr1S/a2/FhNPAgK2Ew4IS",
      "include_colab_link": true
    },
    "kernelspec": {
      "name": "python3",
      "display_name": "Python 3"
    },
    "language_info": {
      "name": "python"
    }
  },
  "cells": [
    {
      "cell_type": "markdown",
      "metadata": {
        "id": "view-in-github",
        "colab_type": "text"
      },
      "source": [
        "<a href=\"https://colab.research.google.com/github/abubakarzohaib141/LangGraph/blob/main/nodes.ipynb\" target=\"_parent\"><img src=\"https://colab.research.google.com/assets/colab-badge.svg\" alt=\"Open In Colab\"/></a>"
      ]
    },
    {
      "cell_type": "markdown",
      "source": [
        "#Install"
      ],
      "metadata": {
        "id": "LySjY0YIltId"
      }
    },
    {
      "cell_type": "code",
      "source": [
        "!pip install langgraph"
      ],
      "metadata": {
        "id": "9EOs53QAlwBq"
      },
      "execution_count": null,
      "outputs": []
    },
    {
      "cell_type": "markdown",
      "source": [
        "# State\n",
        "\n",
        "First, define the State of the graph.\n",
        "\n",
        "The State schema serves as the input schema for all Nodes and Edges in the graph.\n",
        "\n",
        "Let's use the TypedDict class from python's typing module as our schema, which provides type hints for the keys."
      ],
      "metadata": {
        "id": "4uD3liWcmykf"
      }
    },
    {
      "cell_type": "code",
      "source": [
        "from typing_extensions import TypedDict\n",
        "\n",
        "class LearningState(TypedDict):\n",
        "    prompt: str"
      ],
      "metadata": {
        "id": "dzxxB-Zlmz6X"
      },
      "execution_count": 2,
      "outputs": []
    },
    {
      "cell_type": "code",
      "source": [
        "hello_world: LearningState = LearningState(prompt= \"Hello World!\")"
      ],
      "metadata": {
        "id": "hM3uTswtm5Dn"
      },
      "execution_count": 3,
      "outputs": []
    },
    {
      "cell_type": "code",
      "source": [
        "print(hello_world)\n",
        "print(hello_world['prompt'])\n",
        "print(hello_world['prompt'] +\" I am\")\n",
        "print(hello_world)\n",
        "print(type(hello_world))"
      ],
      "metadata": {
        "colab": {
          "base_uri": "https://localhost:8080/"
        },
        "id": "r2oUUf5hnDFI",
        "outputId": "c0d6bdc7-7d80-4b9f-e572-1be29ed983cd"
      },
      "execution_count": 4,
      "outputs": [
        {
          "output_type": "stream",
          "name": "stdout",
          "text": [
            "{'prompt': 'Hello World!'}\n",
            "Hello World!\n",
            "Hello World! I am\n",
            "{'prompt': 'Hello World!'}\n",
            "<class 'dict'>\n"
          ]
        }
      ]
    },
    {
      "cell_type": "markdown",
      "source": [
        "# Nodes\n",
        "\n",
        "Nodes are just python functions.\n",
        "\n",
        "The first positional argument is the state, as defined above.\n",
        "\n",
        "Because the state is a TypedDict with schema as defined above, each node can access the key, graph_state, with state['graph_state'].\n",
        "\n",
        "Each node returns a new value of the state key graph_state.\n",
        "\n",
        "By default, the new value returned by each node will override the prior state value."
      ],
      "metadata": {
        "id": "qnpbHKRdnSmY"
      }
    },
    {
      "cell_type": "code",
      "source": [
        "def node_1(state: LearningState) -> LearningState:\n",
        "    print(\"---Node 1 State---\", state)\n",
        "    return {\"prompt\": state['prompt'] +\" I am\"}\n",
        "\n",
        "def node_2(state: LearningState) -> LearningState:\n",
        "    print(\"---Node 2 State---\", state)\n",
        "    return {\"prompt\": state['prompt'] +\" happy!\"}"
      ],
      "metadata": {
        "id": "t8UkgBeInRq_"
      },
      "execution_count": 5,
      "outputs": []
    }
  ]
}